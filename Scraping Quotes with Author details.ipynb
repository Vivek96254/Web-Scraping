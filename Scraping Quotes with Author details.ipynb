{
 "cells": [
  {
   "cell_type": "code",
   "execution_count": 42,
   "id": "38832fdb",
   "metadata": {},
   "outputs": [],
   "source": [
    "import requests\n",
    "import pandas as pd\n",
    "from bs4 import BeautifulSoup as bSoup"
   ]
  },
  {
   "cell_type": "code",
   "execution_count": 4,
   "id": "fa828d80",
   "metadata": {},
   "outputs": [],
   "source": [
    "res = requests.get('https://quotes.toscrape.com/')\n",
    "\n",
    "soup = bSoup(res.text, 'html.parser')"
   ]
  },
  {
   "cell_type": "code",
   "execution_count": 39,
   "id": "6c7e5b90",
   "metadata": {},
   "outputs": [],
   "source": [
    "data = []\n",
    "\n",
    "for sp in soup.find_all('div', class_ = 'quote'):\n",
    "    \n",
    "    quote     = sp.find('span',class_ = 'text').text[1:-1]\n",
    "    author    = sp.find('small').text\n",
    "    author_id = sp.find('a').get('href')\n",
    "    \n",
    "    tags =[]\n",
    "\n",
    "    for tag in sp.find_all('a', class_ = 'tag'):\n",
    "        tags.append(tag.text)\n",
    "    \n",
    "    tags      = ','.join(tags)\n",
    "    data.append([quote, author, author_id, tags])\n",
    "    "
   ]
  },
  {
   "cell_type": "code",
   "execution_count": 46,
   "id": "3ab36236",
   "metadata": {},
   "outputs": [],
   "source": [
    "df = pd.DataFrame(data, columns = ['quote', 'author', 'author_id', 'tags'])"
   ]
  },
  {
   "cell_type": "code",
   "execution_count": 48,
   "id": "f47bcf6a",
   "metadata": {},
   "outputs": [],
   "source": [
    "df.to_csv('Quotes.csv', index = False)"
   ]
  },
  {
   "cell_type": "code",
   "execution_count": null,
   "id": "6b48f274",
   "metadata": {},
   "outputs": [],
   "source": []
  }
 ],
 "metadata": {
  "kernelspec": {
   "display_name": "Python 3 (ipykernel)",
   "language": "python",
   "name": "python3"
  },
  "language_info": {
   "codemirror_mode": {
    "name": "ipython",
    "version": 3
   },
   "file_extension": ".py",
   "mimetype": "text/x-python",
   "name": "python",
   "nbconvert_exporter": "python",
   "pygments_lexer": "ipython3",
   "version": "3.11.5"
  }
 },
 "nbformat": 4,
 "nbformat_minor": 5
}
