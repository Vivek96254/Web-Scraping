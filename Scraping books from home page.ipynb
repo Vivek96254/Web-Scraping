{
 "cells": [
  {
   "cell_type": "code",
   "execution_count": 3,
   "id": "70b7311e",
   "metadata": {},
   "outputs": [],
   "source": [
    "from bs4 import BeautifulSoup as bSoup\n",
    "from tqdm import tqdm\n",
    "import requests"
   ]
  },
  {
   "cell_type": "code",
   "execution_count": 4,
   "id": "9ff19001",
   "metadata": {},
   "outputs": [],
   "source": [
    "link = 'https://books.toscrape.com/catalogue/page-1.html'"
   ]
  },
  {
   "cell_type": "code",
   "execution_count": 8,
   "id": "06ff346d",
   "metadata": {},
   "outputs": [],
   "source": [
    "res = requests.get(link)\n",
    "\n",
    "soup = bSoup(res.text, 'html.parser')"
   ]
  },
  {
   "cell_type": "code",
   "execution_count": 40,
   "id": "4aaf8228",
   "metadata": {},
   "outputs": [],
   "source": [
    "data =[]\n",
    "\n",
    "for sp in soup.find_all('li', class_ = 'col-xs-6 col-sm-4 col-md-3 col-lg-3'):\n",
    "    \n",
    "    img_link = 'https://books.toscrape.com/' + sp.find('img').get('src') \n",
    "    book_link = 'https://books.toscrape.com/catalogue/' + sp.find_all('a')[-1].get('href')\n",
    "    title = sp.find_all('a')[-1].get('title')\n",
    "    rating = sp.find('p').get('class')[-1]\n",
    "    price = sp.find('p', class_ = 'price_color').text[1:]\n",
    "    availability = sp.find('p', class_ = 'instock availability').text.strip()\n",
    "    \n",
    "    data.append([title, rating, price, availability, book_link, img_link])"
   ]
  },
  {
   "cell_type": "code",
   "execution_count": 41,
   "id": "c285f4a9",
   "metadata": {},
   "outputs": [
    {
     "data": {
      "text/plain": [
       "['A Light in the Attic',\n",
       " 'Three',\n",
       " '£51.77',\n",
       " 'In stock',\n",
       " 'https://books.toscrape.com/catalogue/a-light-in-the-attic_1000/index.html',\n",
       " 'https://books.toscrape.com/../media/cache/2c/da/2cdad67c44b002e7ead0cc35693c0e8b.jpg']"
      ]
     },
     "execution_count": 41,
     "metadata": {},
     "output_type": "execute_result"
    }
   ],
   "source": [
    "data[0]"
   ]
  },
  {
   "cell_type": "code",
   "execution_count": null,
   "id": "ce2daa70",
   "metadata": {},
   "outputs": [],
   "source": []
  }
 ],
 "metadata": {
  "kernelspec": {
   "display_name": "Python 3 (ipykernel)",
   "language": "python",
   "name": "python3"
  },
  "language_info": {
   "codemirror_mode": {
    "name": "ipython",
    "version": 3
   },
   "file_extension": ".py",
   "mimetype": "text/x-python",
   "name": "python",
   "nbconvert_exporter": "python",
   "pygments_lexer": "ipython3",
   "version": "3.11.5"
  }
 },
 "nbformat": 4,
 "nbformat_minor": 5
}
